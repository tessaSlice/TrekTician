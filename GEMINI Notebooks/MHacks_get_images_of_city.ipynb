{
  "nbformat": 4,
  "nbformat_minor": 0,
  "metadata": {
    "colab": {
      "provenance": [],
      "collapsed_sections": [
        "cYKjMAYqLqU3",
        "qdTo9LmxWqnY"
      ],
      "gpuType": "T4",
      "authorship_tag": "ABX9TyOmVTtglgQs15pFgNbNPZ52",
      "include_colab_link": true
    },
    "kernelspec": {
      "name": "python3",
      "display_name": "Python 3"
    },
    "language_info": {
      "name": "python"
    },
    "accelerator": "GPU"
  },
  "cells": [
    {
      "cell_type": "markdown",
      "metadata": {
        "id": "view-in-github",
        "colab_type": "text"
      },
      "source": [
        "<a href=\"https://colab.research.google.com/github/tessaSlice/mhacks-travel-app/blob/main/MHacks_get_images_of_city.ipynb\" target=\"_parent\"><img src=\"https://colab.research.google.com/assets/colab-badge.svg\" alt=\"Open In Colab\"/></a>"
      ]
    },
    {
      "cell_type": "markdown",
      "source": [
        "#Downloading & accessing the GEMINI API"
      ],
      "metadata": {
        "id": "46zz-lwCLVCP"
      }
    },
    {
      "cell_type": "markdown",
      "source": [
        "Note: if you are encountering an issue where it does not allow you to access the API, then check the location you are currently at with this command. If it is in the list of countries that are not supported, then reset the runtime and reconnect."
      ],
      "metadata": {
        "id": "iZCkJOEENX3H"
      }
    },
    {
      "cell_type": "code",
      "source": [
        "!curl ipinfo.io"
      ],
      "metadata": {
        "colab": {
          "base_uri": "https://localhost:8080/"
        },
        "id": "qmPj91jcNCmq",
        "outputId": "895c1630-391a-467c-b404-b4517153c916"
      },
      "execution_count": null,
      "outputs": [
        {
          "output_type": "stream",
          "name": "stdout",
          "text": [
            "{\n",
            "  \"ip\": \"35.232.69.39\",\n",
            "  \"hostname\": \"39.69.232.35.bc.googleusercontent.com\",\n",
            "  \"city\": \"Council Bluffs\",\n",
            "  \"region\": \"Iowa\",\n",
            "  \"country\": \"US\",\n",
            "  \"loc\": \"41.2619,-95.8608\",\n",
            "  \"org\": \"AS396982 Google LLC\",\n",
            "  \"postal\": \"51502\",\n",
            "  \"timezone\": \"America/Chicago\",\n",
            "  \"readme\": \"https://ipinfo.io/missingauth\"\n",
            "}"
          ]
        }
      ]
    },
    {
      "cell_type": "code",
      "execution_count": null,
      "metadata": {
        "id": "TOGn_DnLLRPI"
      },
      "outputs": [],
      "source": [
        "import os\n",
        "from google.colab import userdata\n",
        "os.environ['GOOGLE_API_KEY'] = userdata.get('GOOGLE_API_KEY')"
      ]
    },
    {
      "cell_type": "markdown",
      "source": [
        "### Using system instructions & set system response type to JSON"
      ],
      "metadata": {
        "id": "cYKjMAYqLqU3"
      }
    },
    {
      "cell_type": "code",
      "source": [
        "%%bash\n",
        "\n",
        "curl https://generativelanguage.googleapis.com/v1beta/models/gemini-1.5-pro-latest:generateContent?key=$GOOGLE_API_KEY \\\n",
        "    -H 'Content-Type: application/json' \\\n",
        "    -X POST \\\n",
        "    -d '{ \"contents\":[{\n",
        "            \"parts\":[{\"text\": \"List 10 popular tourist destinations using this JSON schema: \\{ \\\"City name\\\": \\\"object\\\", \\\"properties\\\": \\{ \\\"Entertainment\\\": \\{ \\\"type\\\": \\\"string\\\" \\},\\}\\}\"}] }],\n",
        "          \"generationConfig\": {\n",
        "            \"response_mime_type\": \"application/json\",\n",
        "          } }'"
      ],
      "metadata": {
        "colab": {
          "base_uri": "https://localhost:8080/"
        },
        "id": "hT6pu-KGLrhN",
        "outputId": "71b7e772-73f6-4660-b006-a28534d21353"
      },
      "execution_count": null,
      "outputs": [
        {
          "output_type": "stream",
          "name": "stdout",
          "text": [
            "{\n",
            "  \"candidates\": [\n",
            "    {\n",
            "      \"content\": {\n",
            "        \"parts\": [\n",
            "          {\n",
            "            \"text\": \"[\\n  {\\n    \\\"City name\\\": {\\n      \\\"properties\\\": {\\n        \\\"Entertainment\\\": {\\n          \\\"type\\\": \\\"string\\\"\\n        }\\n      }\\n    }\\n  },\\n  {\\n    \\\"Paris\\\": {\\n      \\\"properties\\\": {\\n        \\\"Entertainment\\\": {\\n          \\\"type\\\": \\\"string\\\"\\n        }\\n      }\\n    }\\n  },\\n  {\\n    \\\"London\\\": {\\n      \\\"properties\\\": {\\n        \\\"Entertainment\\\": {\\n          \\\"type\\\": \\\"string\\\"\\n        }\\n      }\\n    }\\n  },\\n  {\\n    \\\"Rome\\\": {\\n      \\\"properties\\\": {\\n        \\\"Entertainment\\\": {\\n          \\\"type\\\": \\\"string\\\"\\n        }\\n      }\\n    }\\n  },\\n  {\\n    \\\"New York City\\\": {\\n      \\\"properties\\\": {\\n        \\\"Entertainment\\\": {\\n          \\\"type\\\": \\\"string\\\"\\n        }\\n      }\\n    }\\n  },\\n  {\\n    \\\"Barcelona\\\": {\\n      \\\"properties\\\": {\\n        \\\"Entertainment\\\": {\\n          \\\"type\\\": \\\"string\\\"\\n        }\\n      }\\n    }\\n  },\\n  {\\n    \\\"Dubai\\\": {\\n      \\\"properties\\\": {\\n        \\\"Entertainment\\\": {\\n          \\\"type\\\": \\\"string\\\"\\n        }\\n      }\\n    }\\n  },\\n  {\\n    \\\"Singapore\\\": {\\n      \\\"properties\\\": {\\n        \\\"Entertainment\\\": {\\n          \\\"type\\\": \\\"string\\\"\\n        }\\n      }\\n    }\\n  },\\n  {\\n    \\\"Bangkok\\\": {\\n      \\\"properties\\\": {\\n        \\\"Entertainment\\\": {\\n          \\\"type\\\": \\\"string\\\"\\n        }\\n      }\\n    }\\n  },\\n  {\\n    \\\"Tokyo\\\": {\\n      \\\"properties\\\": {\\n        \\\"Entertainment\\\": {\\n          \\\"type\\\": \\\"string\\\"\\n        }\\n      }\\n    }\\n  }\\n]\\n\"\n",
            "          }\n",
            "        ],\n",
            "        \"role\": \"model\"\n",
            "      },\n",
            "      \"finishReason\": \"STOP\",\n",
            "      \"index\": 0,\n",
            "      \"safetyRatings\": [\n",
            "        {\n",
            "          \"category\": \"HARM_CATEGORY_SEXUALLY_EXPLICIT\",\n",
            "          \"probability\": \"NEGLIGIBLE\"\n",
            "        },\n",
            "        {\n",
            "          \"category\": \"HARM_CATEGORY_HATE_SPEECH\",\n",
            "          \"probability\": \"NEGLIGIBLE\"\n",
            "        },\n",
            "        {\n",
            "          \"category\": \"HARM_CATEGORY_HARASSMENT\",\n",
            "          \"probability\": \"NEGLIGIBLE\"\n",
            "        },\n",
            "        {\n",
            "          \"category\": \"HARM_CATEGORY_DANGEROUS_CONTENT\",\n",
            "          \"probability\": \"NEGLIGIBLE\"\n",
            "        }\n",
            "      ]\n",
            "    }\n",
            "  ]\n",
            "}\n"
          ]
        },
        {
          "output_type": "stream",
          "name": "stderr",
          "text": [
            "  % Total    % Received % Xferd  Average Speed   Time    Time     Time  Current\n",
            "                                 Dload  Upload   Total   Spent    Left  Speed\n",
            "\r  0     0    0     0    0     0      0      0 --:--:-- --:--:-- --:--:--     0\r100   314    0     0  100   314      0    258  0:00:01  0:00:01 --:--:--   258\r100   314    0     0  100   314      0    141  0:00:02  0:00:02 --:--:--   141\r100   314    0     0  100   314      0     97  0:00:03  0:00:03 --:--:--    97\r100   314    0     0  100   314      0     74  0:00:04  0:00:04 --:--:--    74\r100   314    0     0  100   314      0     60  0:00:05  0:00:05 --:--:--    60\r100   314    0     0  100   314      0     50  0:00:06  0:00:06 --:--:--     0\r100   314    0     0  100   314      0     43  0:00:07  0:00:07 --:--:--     0\r100   314    0     0  100   314      0     38  0:00:08  0:00:08 --:--:--     0\r100   314    0     0  100   314      0     34  0:00:09  0:00:09 --:--:--     0\r100   314    0     0  100   314      0     30  0:00:10  0:00:10 --:--:--     0\r100  2469    0  2155  100   314    202     29  0:00:10  0:00:10 --:--:--   489\r100  2469    0  2155  100   314    202     29  0:00:10  0:00:10 --:--:--   633\n"
          ]
        }
      ]
    },
    {
      "cell_type": "markdown",
      "source": [
        "## Use python to interact with the REST API"
      ],
      "metadata": {
        "id": "LoOqvDolUt_0"
      }
    },
    {
      "cell_type": "code",
      "source": [
        "!pip install requests"
      ],
      "metadata": {
        "colab": {
          "base_uri": "https://localhost:8080/"
        },
        "id": "cEOGzQYmUtnT",
        "outputId": "79ddfc4e-6f79-46e1-f18d-b1ac839ec9be"
      },
      "execution_count": null,
      "outputs": [
        {
          "output_type": "stream",
          "name": "stdout",
          "text": [
            "Requirement already satisfied: requests in /usr/local/lib/python3.10/dist-packages (2.31.0)\n",
            "Requirement already satisfied: charset-normalizer<4,>=2 in /usr/local/lib/python3.10/dist-packages (from requests) (3.3.2)\n",
            "Requirement already satisfied: idna<4,>=2.5 in /usr/local/lib/python3.10/dist-packages (from requests) (3.6)\n",
            "Requirement already satisfied: urllib3<3,>=1.21.1 in /usr/local/lib/python3.10/dist-packages (from requests) (2.0.7)\n",
            "Requirement already satisfied: certifi>=2017.4.17 in /usr/local/lib/python3.10/dist-packages (from requests) (2024.2.2)\n"
          ]
        }
      ]
    },
    {
      "cell_type": "code",
      "source": [
        "import requests\n",
        "\n",
        "google_API_key = userdata.get('GOOGLE_API_KEY')\n",
        "\n",
        "url = f\"https://generativelanguage.googleapis.com/v1beta/models/gemini-1.5-pro-latest:generateContent?key={google_API_key}\"\n",
        "headers = {'Content-Type' : 'application/json'}\n",
        "\n",
        "city_names_prompt = \"list 10 popular tourist destinations using this JSON schema: \\\n",
        "            \\{ \\\"City name\\\": \\\n",
        "            \\\"object\\\", \\\n",
        "            \\}\\}\"\n",
        "\n",
        "simplified_city_names_prompt = \"You are an amazing and well known traveling advisor. List 10 popular tourist destinations.\"\n",
        "\n",
        "data = {\n",
        "    'contents': [{\n",
        "        'parts': [{\n",
        "            \"text\": simplified_city_names_prompt,\n",
        "        }]\n",
        "    }],\n",
        "    \"generationConfig\": {\n",
        "        \"response_mime_type\": \"application/json\",\n",
        "    }\n",
        "}\n",
        "\n",
        "response = requests.post(url, headers=headers, json=data)\n",
        "\n",
        "print(response.status_code)\n",
        "print(response.json())"
      ],
      "metadata": {
        "colab": {
          "base_uri": "https://localhost:8080/"
        },
        "id": "sbIseuZrVf-U",
        "outputId": "22f8b6e2-ca13-43ca-8530-ac1742b7078b"
      },
      "execution_count": null,
      "outputs": [
        {
          "output_type": "stream",
          "name": "stdout",
          "text": [
            "200\n",
            "{'candidates': [{'content': {'parts': [{'text': '[\\n  \"Paris, France\",\\n  \"Rome, Italy\",\\n  \"London, England\",\\n  \"New York City, USA\",\\n  \"Barcelona, Spain\",\\n  \"Dubai, United Arab Emirates\",\\n  \"Bangkok, Thailand\",\\n  \"Singapore\",\\n  \"Tokyo, Japan\",\\n  \"Sydney, Australia\"\\n]\\n\\n'}], 'role': 'model'}, 'finishReason': 'STOP', 'index': 0, 'safetyRatings': [{'category': 'HARM_CATEGORY_SEXUALLY_EXPLICIT', 'probability': 'NEGLIGIBLE'}, {'category': 'HARM_CATEGORY_HATE_SPEECH', 'probability': 'NEGLIGIBLE'}, {'category': 'HARM_CATEGORY_HARASSMENT', 'probability': 'NEGLIGIBLE'}, {'category': 'HARM_CATEGORY_DANGEROUS_CONTENT', 'probability': 'NEGLIGIBLE'}]}]}\n"
          ]
        }
      ]
    },
    {
      "cell_type": "markdown",
      "source": [
        "### Write the entire JSON response into a text file"
      ],
      "metadata": {
        "id": "qdTo9LmxWqnY"
      }
    },
    {
      "cell_type": "code",
      "source": [
        "import json\n",
        "\n",
        "file_path = \"json.txt\"\n",
        "\n",
        "with open(file_path, 'w') as file:\n",
        "  # write the JSON into the file\n",
        "  json.dump(response.json(), file)\n"
      ],
      "metadata": {
        "id": "GglhGM46WqPY"
      },
      "execution_count": null,
      "outputs": []
    },
    {
      "cell_type": "markdown",
      "source": [
        "### Get only the relevant part of the JSON, which is the text attribute"
      ],
      "metadata": {
        "id": "uh6LtD7uXot4"
      }
    },
    {
      "cell_type": "code",
      "source": [
        "text = response.json()['candidates'][0]['content']['parts'][0]['text']\n",
        "print(text)"
      ],
      "metadata": {
        "colab": {
          "base_uri": "https://localhost:8080/"
        },
        "id": "LzMUOOLZXrWo",
        "outputId": "67bd4120-5ee7-4f6e-ac92-6e5be40c210f"
      },
      "execution_count": null,
      "outputs": [
        {
          "output_type": "stream",
          "name": "stdout",
          "text": [
            "[\n",
            "  \"Paris, France\",\n",
            "  \"Rome, Italy\",\n",
            "  \"London, England\",\n",
            "  \"New York City, USA\",\n",
            "  \"Barcelona, Spain\",\n",
            "  \"Dubai, United Arab Emirates\",\n",
            "  \"Bangkok, Thailand\",\n",
            "  \"Singapore\",\n",
            "  \"Tokyo, Japan\",\n",
            "  \"Sydney, Australia\"\n",
            "]\n",
            "\n",
            "\n"
          ]
        }
      ]
    },
    {
      "cell_type": "code",
      "source": [
        "# write it into the json\n",
        "import json\n",
        "\n",
        "file_path = \"response.json\"\n",
        "\n",
        "with open(file_path, 'w') as file:\n",
        "  # write the JSON into the file\n",
        "  file.write(text)"
      ],
      "metadata": {
        "id": "9N_DI38-YCRG"
      },
      "execution_count": null,
      "outputs": []
    },
    {
      "cell_type": "markdown",
      "source": [
        "# Using the simple list of city names, grab links to photos from Google"
      ],
      "metadata": {
        "id": "Zig2c0Pev899"
      }
    },
    {
      "cell_type": "markdown",
      "source": [
        "Using requests again to do it now"
      ],
      "metadata": {
        "id": "l5-p2SpMz-hZ"
      }
    },
    {
      "cell_type": "code",
      "source": [
        "# Query for image URL\n",
        "def get_image_url(query, num_images):\n",
        "  # Get image URLs\n",
        "  image_urls = get_google_images(query, api_key, cse_id, num_images)\n",
        "\n",
        "  # Print image URLs\n",
        "  if image_urls:\n",
        "      for url in image_urls:\n",
        "          return url\n",
        "  else:\n",
        "      return \"No images found.\""
      ],
      "metadata": {
        "id": "YIqoNE-h0l82"
      },
      "execution_count": null,
      "outputs": []
    },
    {
      "cell_type": "code",
      "source": [
        "import requests\n",
        "\n",
        "def get_google_images(query, api_key, cse_id, num_images=10):\n",
        "    url = f\"https://www.googleapis.com/customsearch/v1?\"\n",
        "    params = {\n",
        "        \"q\": query,\n",
        "        \"searchType\": \"image\",\n",
        "        \"key\": api_key,\n",
        "        \"cx\": cse_id,\n",
        "        \"num\": num_images\n",
        "    }\n",
        "\n",
        "    response = requests.get(url, params=params)\n",
        "    data = response.json()\n",
        "\n",
        "    if 'items' in data:\n",
        "        image_urls = [item['link'] for item in data['items']]\n",
        "        return image_urls\n",
        "    else:\n",
        "        return None"
      ],
      "metadata": {
        "id": "-wrsxsV80AvB"
      },
      "execution_count": null,
      "outputs": []
    },
    {
      "cell_type": "code",
      "source": [
        "import json\n",
        "\n",
        "# Set up your Google API credentials\n",
        "# apparently I need a custom API key seperate from GEMINI to do it as well\n",
        "api_key = userdata.get('CUSTOM_ENGINE_SEARCH_KEY')\n",
        "cse_id = userdata.get('SEARCH_ENGINE_ID')\n",
        "\n",
        "# loop through the different city locations\n",
        "city_image_urls = []\n",
        "\n",
        "dictionary = json.loads(text)\n",
        "\n",
        "for city_name in dictionary:\n",
        "  city_image_urls.append(get_image_url(city_name, 1))\n",
        "\n",
        "for url in city_image_urls:\n",
        "  print(url)"
      ],
      "metadata": {
        "colab": {
          "base_uri": "https://localhost:8080/"
        },
        "id": "rfGHfsMTHNuZ",
        "outputId": "abd14246-887d-4b1d-e33c-e99fedcf1a16"
      },
      "execution_count": null,
      "outputs": [
        {
          "output_type": "stream",
          "name": "stdout",
          "text": [
            "https://www.ciee.org/sites/default/files/styles/640x590/public/images/2023-05/paris-aerial-arc-de-triomphe.jpg?h=4640d74d&itok=N_VbzQG8\n",
            "https://i.natgeofe.com/n/3012ffcc-7361-45f6-98b3-a36d4153f660/colosseum-daylight-rome-italy_3x4.jpg\n",
            "https://cdn.britannica.com/94/19694-050-1DAF09F3/World-Heritage-locator-London-United-Kingdom.jpg\n",
            "https://www.cunard.com/content/dam/cunard/inventory-assets/ports/NYC/NYC.jpg.1706023244423.image.750.563.low.jpg\n",
            "https://upload.wikimedia.org/wikipedia/commons/thumb/5/56/Aerial_view_of_Barcelona%2C_Spain_%2851227309370%29_%28cropped%29.jpg/640px-Aerial_view_of_Barcelona%2C_Spain_%2851227309370%29_%28cropped%29.jpg\n",
            "https://a.cdn-hotels.com/gdcs/production121/d772/6b5a9a4c-fd06-4bcf-b2f0-d979e3704cf9.jpg\n",
            "https://a.cdn-hotels.com/gdcs/production172/d459/3af9262b-3d8b-40c6-b61d-e37ae1aa90aa.jpg?impolicy=fcrop&w=800&h=533&q=medium\n",
            "https://www.state.gov/wp-content/uploads/2023/07/shutterstock_1932196766v2.jpg\n",
            "https://media.cntraveler.com/photos/63482b255e7943ad4006df0b/16:9/w_2560%2Cc_limit/tokyoGettyImages-1031467664.jpeg\n",
            "https://images.squarespace-cdn.com/content/v1/55ee34aae4b0bf70212ada4c/1577545161018-1F9Z9ZZQG9JO2O4WCWQX/keith-zhu-qaNcz43MeY8-unsplash+%281%29.jpg?format=1500w\n"
          ]
        }
      ]
    },
    {
      "cell_type": "code",
      "source": [
        "# data_dict is a dictionary\n",
        "data_dict = {}\n",
        "\n",
        "for city_name in dictionary:\n",
        "  data_dict[city_name] = city_name\n",
        "\n",
        "data_str = json.dumps(data_dict, ensure_ascii=False)\n",
        "\n",
        "cities = json.loads(data_str)\n",
        "url_index = 0\n",
        "for city in cities:\n",
        "    city_name = city[\"city_name\"]\n",
        "    # add the city image url to the dictionary\n",
        "    city[\"image_url\"] = city_image_urls[url_index]\n",
        "    url_index = url_index + 1\n",
        "\n",
        "# # cities should be a text, seems like jsonify doesn't support dicts\n",
        "# cities_text = json.dumps(cities)\n",
        "\n",
        "cities"
      ],
      "metadata": {
        "colab": {
          "base_uri": "https://localhost:8080/"
        },
        "id": "uZky7-bkHj3Y",
        "outputId": "5d3830df-6ced-4056-fbbf-8e00926ea499"
      },
      "execution_count": null,
      "outputs": [
        {
          "output_type": "execute_result",
          "data": {
            "text/plain": [
              "{'city_name': 'Sydney, Australia'}"
            ]
          },
          "metadata": {},
          "execution_count": 20
        }
      ]
    },
    {
      "cell_type": "code",
      "source": [
        "# city_image_urls now holds the urls for the different cities to visit!"
      ],
      "metadata": {
        "id": "k44hFx4A0_Vu"
      },
      "execution_count": null,
      "outputs": []
    }
  ]
}