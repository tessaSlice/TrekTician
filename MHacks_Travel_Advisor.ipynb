{
  "nbformat": 4,
  "nbformat_minor": 0,
  "metadata": {
    "colab": {
      "provenance": [],
      "gpuType": "T4",
      "authorship_tag": "ABX9TyNbgDdJhDmDnPm19WpHQz/5",
      "include_colab_link": true
    },
    "kernelspec": {
      "name": "python3",
      "display_name": "Python 3"
    },
    "language_info": {
      "name": "python"
    },
    "accelerator": "GPU"
  },
  "cells": [
    {
      "cell_type": "markdown",
      "metadata": {
        "id": "view-in-github",
        "colab_type": "text"
      },
      "source": [
        "<a href=\"https://colab.research.google.com/github/tessaSlice/mhacks-travel-app/blob/main/MHacks_Travel_Advisor.ipynb\" target=\"_parent\"><img src=\"https://colab.research.google.com/assets/colab-badge.svg\" alt=\"Open In Colab\"/></a>"
      ]
    },
    {
      "cell_type": "markdown",
      "source": [
        "#Downloading & accessing the GEMINI API"
      ],
      "metadata": {
        "id": "46zz-lwCLVCP"
      }
    },
    {
      "cell_type": "markdown",
      "source": [
        "Note: if you are encountering an issue where it does not allow you to access the API, then check the location you are currently at with this command. If it is in the list of countries that are not supported, then reset the runtime and reconnect."
      ],
      "metadata": {
        "id": "iZCkJOEENX3H"
      }
    },
    {
      "cell_type": "code",
      "source": [
        "!curl ipinfo.io"
      ],
      "metadata": {
        "colab": {
          "base_uri": "https://localhost:8080/"
        },
        "id": "qmPj91jcNCmq",
        "outputId": "895c1630-391a-467c-b404-b4517153c916"
      },
      "execution_count": 1,
      "outputs": [
        {
          "output_type": "stream",
          "name": "stdout",
          "text": [
            "{\n",
            "  \"ip\": \"35.232.69.39\",\n",
            "  \"hostname\": \"39.69.232.35.bc.googleusercontent.com\",\n",
            "  \"city\": \"Council Bluffs\",\n",
            "  \"region\": \"Iowa\",\n",
            "  \"country\": \"US\",\n",
            "  \"loc\": \"41.2619,-95.8608\",\n",
            "  \"org\": \"AS396982 Google LLC\",\n",
            "  \"postal\": \"51502\",\n",
            "  \"timezone\": \"America/Chicago\",\n",
            "  \"readme\": \"https://ipinfo.io/missingauth\"\n",
            "}"
          ]
        }
      ]
    },
    {
      "cell_type": "code",
      "execution_count": 10,
      "metadata": {
        "id": "TOGn_DnLLRPI"
      },
      "outputs": [],
      "source": [
        "import os\n",
        "from google.colab import userdata\n",
        "os.environ['GOOGLE_API_KEY'] = userdata.get('GOOGLE_API_KEY')"
      ]
    },
    {
      "cell_type": "markdown",
      "source": [
        "### Using system instructions & set system response type to JSON"
      ],
      "metadata": {
        "id": "cYKjMAYqLqU3"
      }
    },
    {
      "cell_type": "code",
      "source": [
        "%%bash\n",
        "\n",
        "curl https://generativelanguage.googleapis.com/v1beta/models/gemini-1.5-pro-latest:generateContent?key=$GOOGLE_API_KEY \\\n",
        "    -H 'Content-Type: application/json' \\\n",
        "    -X POST \\\n",
        "    -d '{ \"contents\":[{\n",
        "            \"parts\":[{\"text\": \"List 10 popular tourist destinations using this JSON schema: \\{ \\\"City name\\\": \\\"object\\\", \\\"properties\\\": \\{ \\\"Entertainment\\\": \\{ \\\"type\\\": \\\"string\\\" \\},\\}\\}\"}] }],\n",
        "          \"generationConfig\": {\n",
        "            \"response_mime_type\": \"application/json\",\n",
        "          } }'"
      ],
      "metadata": {
        "colab": {
          "base_uri": "https://localhost:8080/"
        },
        "id": "hT6pu-KGLrhN",
        "outputId": "71b7e772-73f6-4660-b006-a28534d21353"
      },
      "execution_count": 13,
      "outputs": [
        {
          "output_type": "stream",
          "name": "stdout",
          "text": [
            "{\n",
            "  \"candidates\": [\n",
            "    {\n",
            "      \"content\": {\n",
            "        \"parts\": [\n",
            "          {\n",
            "            \"text\": \"[\\n  {\\n    \\\"City name\\\": {\\n      \\\"properties\\\": {\\n        \\\"Entertainment\\\": {\\n          \\\"type\\\": \\\"string\\\"\\n        }\\n      }\\n    }\\n  },\\n  {\\n    \\\"Paris\\\": {\\n      \\\"properties\\\": {\\n        \\\"Entertainment\\\": {\\n          \\\"type\\\": \\\"string\\\"\\n        }\\n      }\\n    }\\n  },\\n  {\\n    \\\"London\\\": {\\n      \\\"properties\\\": {\\n        \\\"Entertainment\\\": {\\n          \\\"type\\\": \\\"string\\\"\\n        }\\n      }\\n    }\\n  },\\n  {\\n    \\\"Rome\\\": {\\n      \\\"properties\\\": {\\n        \\\"Entertainment\\\": {\\n          \\\"type\\\": \\\"string\\\"\\n        }\\n      }\\n    }\\n  },\\n  {\\n    \\\"New York City\\\": {\\n      \\\"properties\\\": {\\n        \\\"Entertainment\\\": {\\n          \\\"type\\\": \\\"string\\\"\\n        }\\n      }\\n    }\\n  },\\n  {\\n    \\\"Barcelona\\\": {\\n      \\\"properties\\\": {\\n        \\\"Entertainment\\\": {\\n          \\\"type\\\": \\\"string\\\"\\n        }\\n      }\\n    }\\n  },\\n  {\\n    \\\"Dubai\\\": {\\n      \\\"properties\\\": {\\n        \\\"Entertainment\\\": {\\n          \\\"type\\\": \\\"string\\\"\\n        }\\n      }\\n    }\\n  },\\n  {\\n    \\\"Singapore\\\": {\\n      \\\"properties\\\": {\\n        \\\"Entertainment\\\": {\\n          \\\"type\\\": \\\"string\\\"\\n        }\\n      }\\n    }\\n  },\\n  {\\n    \\\"Bangkok\\\": {\\n      \\\"properties\\\": {\\n        \\\"Entertainment\\\": {\\n          \\\"type\\\": \\\"string\\\"\\n        }\\n      }\\n    }\\n  },\\n  {\\n    \\\"Tokyo\\\": {\\n      \\\"properties\\\": {\\n        \\\"Entertainment\\\": {\\n          \\\"type\\\": \\\"string\\\"\\n        }\\n      }\\n    }\\n  }\\n]\\n\"\n",
            "          }\n",
            "        ],\n",
            "        \"role\": \"model\"\n",
            "      },\n",
            "      \"finishReason\": \"STOP\",\n",
            "      \"index\": 0,\n",
            "      \"safetyRatings\": [\n",
            "        {\n",
            "          \"category\": \"HARM_CATEGORY_SEXUALLY_EXPLICIT\",\n",
            "          \"probability\": \"NEGLIGIBLE\"\n",
            "        },\n",
            "        {\n",
            "          \"category\": \"HARM_CATEGORY_HATE_SPEECH\",\n",
            "          \"probability\": \"NEGLIGIBLE\"\n",
            "        },\n",
            "        {\n",
            "          \"category\": \"HARM_CATEGORY_HARASSMENT\",\n",
            "          \"probability\": \"NEGLIGIBLE\"\n",
            "        },\n",
            "        {\n",
            "          \"category\": \"HARM_CATEGORY_DANGEROUS_CONTENT\",\n",
            "          \"probability\": \"NEGLIGIBLE\"\n",
            "        }\n",
            "      ]\n",
            "    }\n",
            "  ]\n",
            "}\n"
          ]
        },
        {
          "output_type": "stream",
          "name": "stderr",
          "text": [
            "  % Total    % Received % Xferd  Average Speed   Time    Time     Time  Current\n",
            "                                 Dload  Upload   Total   Spent    Left  Speed\n",
            "\r  0     0    0     0    0     0      0      0 --:--:-- --:--:-- --:--:--     0\r100   314    0     0  100   314      0    258  0:00:01  0:00:01 --:--:--   258\r100   314    0     0  100   314      0    141  0:00:02  0:00:02 --:--:--   141\r100   314    0     0  100   314      0     97  0:00:03  0:00:03 --:--:--    97\r100   314    0     0  100   314      0     74  0:00:04  0:00:04 --:--:--    74\r100   314    0     0  100   314      0     60  0:00:05  0:00:05 --:--:--    60\r100   314    0     0  100   314      0     50  0:00:06  0:00:06 --:--:--     0\r100   314    0     0  100   314      0     43  0:00:07  0:00:07 --:--:--     0\r100   314    0     0  100   314      0     38  0:00:08  0:00:08 --:--:--     0\r100   314    0     0  100   314      0     34  0:00:09  0:00:09 --:--:--     0\r100   314    0     0  100   314      0     30  0:00:10  0:00:10 --:--:--     0\r100  2469    0  2155  100   314    202     29  0:00:10  0:00:10 --:--:--   489\r100  2469    0  2155  100   314    202     29  0:00:10  0:00:10 --:--:--   633\n"
          ]
        }
      ]
    },
    {
      "cell_type": "markdown",
      "source": [
        "## Use python to interact with the REST API"
      ],
      "metadata": {
        "id": "LoOqvDolUt_0"
      }
    },
    {
      "cell_type": "code",
      "source": [
        "!pip install requests"
      ],
      "metadata": {
        "colab": {
          "base_uri": "https://localhost:8080/"
        },
        "id": "cEOGzQYmUtnT",
        "outputId": "9f119179-0a56-484b-cd98-9413cded80d4"
      },
      "execution_count": 14,
      "outputs": [
        {
          "output_type": "stream",
          "name": "stdout",
          "text": [
            "Requirement already satisfied: requests in /usr/local/lib/python3.10/dist-packages (2.31.0)\n",
            "Requirement already satisfied: charset-normalizer<4,>=2 in /usr/local/lib/python3.10/dist-packages (from requests) (3.3.2)\n",
            "Requirement already satisfied: idna<4,>=2.5 in /usr/local/lib/python3.10/dist-packages (from requests) (3.6)\n",
            "Requirement already satisfied: urllib3<3,>=1.21.1 in /usr/local/lib/python3.10/dist-packages (from requests) (2.0.7)\n",
            "Requirement already satisfied: certifi>=2017.4.17 in /usr/local/lib/python3.10/dist-packages (from requests) (2024.2.2)\n"
          ]
        }
      ]
    },
    {
      "cell_type": "code",
      "source": [
        "import requests\n",
        "\n",
        "google_API_key = userdata.get('GOOGLE_API_KEY')\n",
        "\n",
        "url = f\"https://generativelanguage.googleapis.com/v1beta/models/gemini-1.5-pro-latest:generateContent?key={google_API_key}\"\n",
        "headers = {'Content-Type' : 'application/json'}\n",
        "data = {\n",
        "    'contents': [{\n",
        "        'parts': [{\n",
        "            \"text\": \"list 10 popular tourist destinations using this JSON schema:  \\{ \\\"City name\\\": \\\"object\\\", \\\"properties\\\": \\{ \\\"Entertainment\\\": \\{ \\\"type\\\": \\\"string\\\" \\},\\}\\}\",\n",
        "        }]\n",
        "    }],\n",
        "    \"generationConfig\": {\n",
        "        \"response_mime_type\": \"application/json\",\n",
        "    }\n",
        "}\n",
        "\n",
        "response = requests.post(url, headers=headers, json=data)\n",
        "\n",
        "print(response.status_code)\n",
        "print(response.json())"
      ],
      "metadata": {
        "colab": {
          "base_uri": "https://localhost:8080/"
        },
        "id": "sbIseuZrVf-U",
        "outputId": "b1233f7b-048e-4d7a-da85-307ea1be26eb"
      },
      "execution_count": 18,
      "outputs": [
        {
          "output_type": "stream",
          "name": "stdout",
          "text": [
            "200\n",
            "{'candidates': [{'content': {'parts': [{'text': '[\\n  {\\n    \"City name\": {\\n      \"properties\": {\\n        \"Entertainment\": {\\n          \"type\": \"string\"\\n        }\\n      }\\n    }\\n  },\\n  {\\n    \"Paris\": {\\n      \"properties\": {\\n        \"Entertainment\": {\\n          \"type\": \"string\"\\n        }\\n      }\\n    }\\n  },\\n  {\\n    \"New York City\": {\\n      \"properties\": {\\n        \"Entertainment\": {\\n          \"type\": \"string\"\\n        }\\n      }\\n    }\\n  },\\n  {\\n    \"London\": {\\n      \"properties\": {\\n        \"Entertainment\": {\\n          \"type\": \"string\"\\n        }\\n      }\\n    }\\n  },\\n  {\\n    \"Dubai\": {\\n      \"properties\": {\\n        \"Entertainment\": {\\n          \"type\": \"string\"\\n        }\\n      }\\n    }\\n  },\\n  {\\n    \"Bangkok\": {\\n      \"properties\": {\\n        \"Entertainment\": {\\n          \"type\": \"string\"\\n        }\\n      }\\n    }\\n  },\\n  {\\n    \"Singapore\": {\\n      \"properties\": {\\n        \"Entertainment\": {\\n          \"type\": \"string\"\\n        }\\n      }\\n    }\\n  },\\n  {\\n    \"Tokyo\": {\\n      \"properties\": {\\n        \"Entertainment\": {\\n          \"type\": \"string\"\\n        }\\n      }\\n    }\\n  },\\n  {\\n    \"Kuala Lumpur\": {\\n      \"properties\": {\\n        \"Entertainment\": {\\n          \"type\": \"string\"\\n        }\\n      }\\n    }\\n  },\\n  {\\n    \"Istanbul\": {\\n      \"properties\": {\\n        \"Entertainment\": {\\n          \"type\": \"string\"\\n        }\\n      }\\n    }\\n  }\\n]\\n'}], 'role': 'model'}, 'finishReason': 'STOP', 'index': 0, 'safetyRatings': [{'category': 'HARM_CATEGORY_SEXUALLY_EXPLICIT', 'probability': 'NEGLIGIBLE'}, {'category': 'HARM_CATEGORY_HATE_SPEECH', 'probability': 'NEGLIGIBLE'}, {'category': 'HARM_CATEGORY_HARASSMENT', 'probability': 'NEGLIGIBLE'}, {'category': 'HARM_CATEGORY_DANGEROUS_CONTENT', 'probability': 'NEGLIGIBLE'}]}]}\n"
          ]
        }
      ]
    },
    {
      "cell_type": "markdown",
      "source": [
        "### Write the JSON response into a text file"
      ],
      "metadata": {
        "id": "qdTo9LmxWqnY"
      }
    },
    {
      "cell_type": "code",
      "source": [
        "import json\n",
        "\n",
        "file_path = \"json.txt\"\n",
        "\n",
        "with open(file_path, 'w') as file:\n",
        "  # write the JSON into the file\n",
        "  json.dump(response.json(), file)\n"
      ],
      "metadata": {
        "id": "GglhGM46WqPY"
      },
      "execution_count": 20,
      "outputs": []
    },
    {
      "cell_type": "markdown",
      "source": [
        "### Get only the relevant part of the JSON, which is the text attribute"
      ],
      "metadata": {
        "id": "uh6LtD7uXot4"
      }
    },
    {
      "cell_type": "code",
      "source": [
        "text = response.json()['candidates'][0]['content']['parts'][0]['text']\n",
        "print(text)"
      ],
      "metadata": {
        "colab": {
          "base_uri": "https://localhost:8080/"
        },
        "id": "LzMUOOLZXrWo",
        "outputId": "279f5aca-6b7f-4b3c-8d94-bac36cf54bcf"
      },
      "execution_count": 33,
      "outputs": [
        {
          "output_type": "stream",
          "name": "stdout",
          "text": [
            "[\n",
            "  {\n",
            "    \"City name\": {\n",
            "      \"properties\": {\n",
            "        \"Entertainment\": {\n",
            "          \"type\": \"string\"\n",
            "        }\n",
            "      }\n",
            "    }\n",
            "  },\n",
            "  {\n",
            "    \"Paris\": {\n",
            "      \"properties\": {\n",
            "        \"Entertainment\": {\n",
            "          \"type\": \"string\"\n",
            "        }\n",
            "      }\n",
            "    }\n",
            "  },\n",
            "  {\n",
            "    \"New York City\": {\n",
            "      \"properties\": {\n",
            "        \"Entertainment\": {\n",
            "          \"type\": \"string\"\n",
            "        }\n",
            "      }\n",
            "    }\n",
            "  },\n",
            "  {\n",
            "    \"London\": {\n",
            "      \"properties\": {\n",
            "        \"Entertainment\": {\n",
            "          \"type\": \"string\"\n",
            "        }\n",
            "      }\n",
            "    }\n",
            "  },\n",
            "  {\n",
            "    \"Dubai\": {\n",
            "      \"properties\": {\n",
            "        \"Entertainment\": {\n",
            "          \"type\": \"string\"\n",
            "        }\n",
            "      }\n",
            "    }\n",
            "  },\n",
            "  {\n",
            "    \"Bangkok\": {\n",
            "      \"properties\": {\n",
            "        \"Entertainment\": {\n",
            "          \"type\": \"string\"\n",
            "        }\n",
            "      }\n",
            "    }\n",
            "  },\n",
            "  {\n",
            "    \"Singapore\": {\n",
            "      \"properties\": {\n",
            "        \"Entertainment\": {\n",
            "          \"type\": \"string\"\n",
            "        }\n",
            "      }\n",
            "    }\n",
            "  },\n",
            "  {\n",
            "    \"Tokyo\": {\n",
            "      \"properties\": {\n",
            "        \"Entertainment\": {\n",
            "          \"type\": \"string\"\n",
            "        }\n",
            "      }\n",
            "    }\n",
            "  },\n",
            "  {\n",
            "    \"Kuala Lumpur\": {\n",
            "      \"properties\": {\n",
            "        \"Entertainment\": {\n",
            "          \"type\": \"string\"\n",
            "        }\n",
            "      }\n",
            "    }\n",
            "  },\n",
            "  {\n",
            "    \"Istanbul\": {\n",
            "      \"properties\": {\n",
            "        \"Entertainment\": {\n",
            "          \"type\": \"string\"\n",
            "        }\n",
            "      }\n",
            "    }\n",
            "  }\n",
            "]\n",
            "\n"
          ]
        }
      ]
    },
    {
      "cell_type": "code",
      "source": [
        "# write it into the json\n",
        "import json\n",
        "\n",
        "file_path = \"response.json\"\n",
        "\n",
        "with open(file_path, 'w') as file:\n",
        "  # write the JSON into the file\n",
        "  file.write(text)"
      ],
      "metadata": {
        "id": "9N_DI38-YCRG"
      },
      "execution_count": 34,
      "outputs": []
    }
  ]
}