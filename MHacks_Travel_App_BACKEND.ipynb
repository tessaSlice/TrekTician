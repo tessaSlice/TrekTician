{
  "nbformat": 4,
  "nbformat_minor": 0,
  "metadata": {
    "colab": {
      "provenance": [],
      "include_colab_link": true
    },
    "kernelspec": {
      "name": "python3",
      "display_name": "Python 3"
    },
    "language_info": {
      "name": "python"
    }
  },
  "cells": [
    {
      "cell_type": "markdown",
      "metadata": {
        "id": "view-in-github",
        "colab_type": "text"
      },
      "source": [
        "<a href=\"https://colab.research.google.com/github/tessaSlice/mhacks-travel-app/blob/main/MHacks_Travel_App_BACKEND.ipynb\" target=\"_parent\"><img src=\"https://colab.research.google.com/assets/colab-badge.svg\" alt=\"Open In Colab\"/></a>"
      ]
    },
    {
      "cell_type": "code",
      "execution_count": null,
      "metadata": {
        "id": "6r7yZ8JvD67g",
        "colab": {
          "base_uri": "https://localhost:8080/"
        },
        "outputId": "4738dbf7-1621-4a46-e397-7511ef894626"
      },
      "outputs": [
        {
          "output_type": "stream",
          "name": "stdout",
          "text": [
            "\u001b[2K     \u001b[90m━━━━━━━━━━━━━━━━━━━━━━━━━━━━━━━━━━━━━━━━\u001b[0m \u001b[32m142.1/142.1 kB\u001b[0m \u001b[31m1.4 MB/s\u001b[0m eta \u001b[36m0:00:00\u001b[0m\n",
            "\u001b[2K     \u001b[90m━━━━━━━━━━━━━━━━━━━━━━━━━━━━━━━━━━━━━━━━\u001b[0m \u001b[32m663.6/663.6 kB\u001b[0m \u001b[31m5.9 MB/s\u001b[0m eta \u001b[36m0:00:00\u001b[0m\n",
            "\u001b[?25h"
          ]
        }
      ],
      "source": [
        "!pip install -U -q google.generativeai # Install the Python SDK\n",
        "import json"
      ]
    },
    {
      "cell_type": "code",
      "source": [
        "import google.generativeai as genai"
      ],
      "metadata": {
        "id": "M1eVb4VJFE1p"
      },
      "execution_count": null,
      "outputs": []
    },
    {
      "cell_type": "code",
      "source": [
        "from google.colab import userdata\n",
        "GOOGLE_API_KEY=userdata.get('GOOGLE_API_KEY')\n",
        "genai.configure(api_key=GOOGLE_API_KEY)"
      ],
      "metadata": {
        "id": "LDgUOumSFHL2"
      },
      "execution_count": null,
      "outputs": []
    },
    {
      "cell_type": "markdown",
      "source": [
        "Generate City List Based on **Preferences** AND **places (countries only)**\n",
        "contains city names + desciptions"
      ],
      "metadata": {
        "id": "ETDvHOfZ44ad"
      }
    },
    {
      "cell_type": "code",
      "source": [
        "def generate_cities(travelstyle, place):\n",
        "  model = genai.GenerativeModel('gemini-pro')\n",
        "  response = model.generate_content(\"generate a list of tourist CITIES in \"+ place + \"that are \"+ travelstyle)\n",
        "  return response.text\n",
        "\n",
        "def filter_list(travelstyle, place):\n",
        "  model = genai.GenerativeModel('gemini-pro')\n",
        "  response = model.generate_content(\"Extract out these cities into a list\" + generate_cities(travelstyle, place))\n",
        "  return response.text\n",
        "\n",
        "def add_desciption(travelstyle, place):\n",
        "  model = genai.GenerativeModel('gemini-pro')\n",
        "  response = model.generate_content(\"Add a one sentence desciption to the following list of cities and add desciption for each of them for travelers\" + filter_list(travelstyle, place))\n",
        "  return response.text\n",
        "\n",
        "def convert_to_json(travelstyle, place):\n",
        "  model = genai.GenerativeModel('gemini-pro')\n",
        "  response = model.generate_content(add_desciption(travelstyle, place) + \"Please provide a response in a structured JSON format that matches the following model: [{city: city name, description: desciption}]\")\n",
        "  return response.text\n",
        "\n",
        "\n",
        "print(convert_to_json(\"nature oriented\", \"US\"))"
      ],
      "metadata": {
        "colab": {
          "base_uri": "https://localhost:8080/",
          "height": 801
        },
        "id": "9hh2Tk0xLQQm",
        "outputId": "56a7736a-d1b6-4a0d-aeac-f6d78951682a"
      },
      "execution_count": null,
      "outputs": [
        {
          "output_type": "stream",
          "name": "stdout",
          "text": [
            "```\n",
            "[\n",
            "  {\n",
            "    \"city\": \"Asheville, North Carolina\",\n",
            "    \"description\": \"A vibrant city nestled in the Blue Ridge Mountains, known for its thriving arts scene, craft breweries, and scenic outdoor adventures.\"\n",
            "  },\n",
            "  {\n",
            "    \"city\": \"Sedona, Arizona\",\n",
            "    \"description\": \"A picturesque desert town surrounded by stunning red rock formations, renowned for its vortex energy and spiritual retreats.\"\n",
            "  },\n",
            "  {\n",
            "    \"city\": \"Taos, New Mexico\",\n",
            "    \"description\": \"A historic town perched at the base of the Sangre de Cristo Mountains, characterized by its Native American and Spanish influences and stunning mountain vistas.\"\n",
            "  },\n",
            "  {\n",
            "    \"city\": \"Banff, Alberta, Canada\",\n",
            "    \"description\": \"A majestic mountain town in Banff National Park, renowned for its turquoise glacial lakes, towering peaks, and abundant wildlife.\"\n",
            "  },\n",
            "  {\n",
            "    \"city\": \"Leavenworth, Washington\",\n",
            "    \"description\": \"A charming Bavarian-themed town nestled in the Cascade Mountains, offering a taste of Europe with its festive atmosphere, cozy shops, and scenic trails.\"\n",
            "  },\n",
            "  {\n",
            "    \"city\": \"Park City, Utah\",\n",
            "    \"description\": \"A historic mining town transformed into a world-renowned ski resort, known for its pristine slopes, luxurious amenities, and Sundance Film Festival.\"\n",
            "  },\n",
            "  {\n",
            "    \"city\": \"Steamboat Springs, Colorado\",\n",
            "    \"description\": \"A historic Victorian town nestled in the Rocky Mountains, renowned for its hot springs, championship-level skiing, and charming Western ambiance.\"\n",
            "  },\n",
            "  {\n",
            "    \"city\": \"Telluride, Colorado\",\n",
            "    \"description\": \"A picturesque mountain town hidden in a box canyon, offering stunning mountain views, world-class skiing, and a vibrant arts scene.\"\n",
            "  },\n",
            "  {\n",
            "    \"city\": \"Breckenridge, Colorado\",\n",
            "    \"description\": \"A lively Victorian-era mining town in the Rocky Mountains, known for its historic charm, abundant ski terrain, and vibrant après-ski scene.\"\n",
            "  },\n",
            "  {\n",
            "    \"city\": \"Vail, Colorado\",\n",
            "    \"description\": \"A legendary ski resort town nestled in the Rocky Mountains, renowned for its luxurious amenities, pristine slopes, and upscale dining and shopping.\"\n",
            "  }\n",
            "]\n",
            "```\n"
          ]
        }
      ]
    },
    {
      "cell_type": "markdown",
      "source": [
        "Take in a city, Generate tourist attrations and foods in the area, let user choose which one they have to visit  "
      ],
      "metadata": {
        "id": "I5bLl9f39R1z"
      }
    },
    {
      "cell_type": "code",
      "source": [
        "def generate_lists(city):\n",
        "  model = genai.GenerativeModel('gemini-pro')\n",
        "  response = model.generate_content(\"provide a list of tourist attrations and a list of food places to visit in \"+ city)\n",
        "  return response.text\n",
        "\n",
        "def add_desciption(city):\n",
        "  model = genai.GenerativeModel('gemini-pro')\n",
        "  response = model.generate_content(\"add a one sentence desciption to the following list of attrations and food places in \"+ generate_lists(city))\n",
        "  return response.text\n",
        "\n",
        "def convert_to_json(city):\n",
        "  model = genai.GenerativeModel('gemini-pro')\n",
        "  response = model.generate_content(add_desciption(city)+ \"Please provide a response in a structured JSON format that matches the following model: [{tourist attraction: tourist attration, description: description}][{food places: food place, description: description}]\")\n",
        "  return response.text\n",
        "\n",
        "print(convert_to_json(\"new york\"))"
      ],
      "metadata": {
        "colab": {
          "base_uri": "https://localhost:8080/",
          "height": 1000
        },
        "id": "SGsyYGqw5E_X",
        "outputId": "75a4a874-7977-4415-c2c4-2f06441b38c3"
      },
      "execution_count": null,
      "outputs": [
        {
          "output_type": "stream",
          "name": "stdout",
          "text": [
            "**Tourist Attractions**\n",
            "[\n",
            "  {\n",
            "    tourist_attraction: \"Empire State Building\",\n",
            "    description: \"Soaring skyscraper with stunning panoramic city views.\"\n",
            "  },\n",
            "  {\n",
            "    tourist_attraction: \"Statue of Liberty\",\n",
            "    description: \"Iconic symbol of freedom and democracy located on Liberty Island.\"\n",
            "  },\n",
            "  {\n",
            "    tourist_attraction: \"Times Square\",\n",
            "    description: \"Bustling intersection known for its bright lights, billboards, and live performances.\"\n",
            "  },\n",
            "  {\n",
            "    tourist_attraction: \"Central Park\",\n",
            "    description: \"Enchanting urban oasis with sprawling lawns, a lake, and cultural institutions.\"\n",
            "  },\n",
            "  {\n",
            "    tourist_attraction: \"The Metropolitan Museum of Art\",\n",
            "    description: \"Renowned museum showcasing art from around the world.\"\n",
            "  },\n",
            "  {\n",
            "    tourist_attraction: \"Museum of Modern Art (MoMA)\",\n",
            "    description: \"Cutting-edge contemporary art museum.\"\n",
            "  },\n",
            "  {\n",
            "    tourist_attraction: \"American Museum of Natural History\",\n",
            "    description: \"World-class museum featuring exhibits on natural history, dinosaurs, and wildlife.\"\n",
            "  },\n",
            "  {\n",
            "    tourist_attraction: \"The High Line\",\n",
            "    description: \"Elevated park built on a former railway, offering unique city views.\"\n",
            "  },\n",
            "  {\n",
            "    tourist_attraction: \"Grand Central Terminal\",\n",
            "    description: \"Historic Beaux-Arts train station known for its grand architecture and celestial ceiling mural.\"\n",
            "  },\n",
            "  {\n",
            "    tourist_attraction: \"Brooklyn Bridge\",\n",
            "    description: \"Iconic suspension bridge connecting Manhattan and Brooklyn.\"\n",
            "  },\n",
            "]\n",
            "\n",
            "**Food Places**\n",
            "[\n",
            "  {\n",
            "    food_place: \"Joe's Pizza\",\n",
            "    description: \"Beloved pizzeria known for its mouthwatering slices.\"\n",
            "  },\n",
            "  {\n",
            "    food_place: \"Katz's Delicatessen\",\n",
            "    description: \"Legendary deli serving classic Jewish comfort food, including pastrami on rye.\"\n",
            "  },\n",
            "  {\n",
            "    food_place: \"Lombardi's Pizza\",\n",
            "    description: \"Historic pizzeria credited with creating New York-style pizza.\"\n",
            "  },\n",
            "  {\n",
            "    food_place: \"Peter Luger Steak House\",\n",
            "    description: \"Renowned steakhouse known for its dry-aged prime cuts.\"\n",
            "  },\n",
            "  {\n",
            "    food_place: \"Fraunces Tavern\",\n",
            "    description: \"Historic tavern and landmark serving traditional American cuisine.\"\n",
            "  },\n",
            "  {\n",
            "    food_place: \"Shake Shack\",\n",
            "    description: \"Popular burger chain known for its juicy patties and crinkle-cut fries.\"\n",
            "  },\n",
            "  {\n",
            "    food_place: \"Rao's\",\n",
            "    description: \"Exclusive Italian restaurant with a legendary reputation and a notoriously difficult-to-get reservation.\"\n",
            "  },\n",
            "  {\n",
            "    food_place: \"Le Bernardin\",\n",
            "    description: \"Michelin-starred seafood restaurant serving refined dishes inspired by the ocean.\"\n",
            "  },\n",
            "  {\n",
            "    food_place: \"Minetta Tavern\",\n",
            "    description: \"Classic Italian-American restaurant with a charming old-world ambiance.\"\n",
            "  },\n",
            "  {\n",
            "    food_place: \"Magnolia Bakery\",\n",
            "    description: \"Quaint bakery known for its indulgent cupcakes and banana pudding.\"\n",
            "  },\n",
            "]\n"
          ]
        }
      ]
    },
    {
      "cell_type": "markdown",
      "source": [
        "buget + time estimate from computer as reference, taking in list to visit, transit type, city, fromcity"
      ],
      "metadata": {
        "id": "C6azDMPDH-0A"
      }
    },
    {
      "cell_type": "code",
      "source": [
        "list_to_visit = \"Empire State Building, Katz's Delicatessen\" #no need to include this\n",
        "city = \"new york\"\n",
        "fromcity = \"ann arbor\"\n",
        "transportation_method = \"plane - economy\"\n",
        "time_of_visit = \"May 1st - May 3rd\"\n",
        "hotel_price_range = \"cheap\"\n",
        "\n",
        "def count_days(time_of_visit):\n",
        "  model = genai.GenerativeModel('gemini-pro')\n",
        "  response = model.generate_content(\"count the number of days during\" + time_of_visit)\n",
        "  return response.text\n",
        "\n",
        "def generate_itinerary(city, list_to_visit, time_of_visit, fromcity):\n",
        "  model = genai.GenerativeModel('gemini-pro')\n",
        "  response = model.generate_content(\"generate an travel itinerary that includes all of the following list \" + list_to_visit + \"in \" + count_days(time_of_visit) +\"days\")\n",
        "  return response.text\n",
        "\n",
        "itenerary = generate_itinerary(city, list_to_visit, time_of_visit, fromcity)\n",
        "\n",
        "def convert_to_json(itenerary):\n",
        "  model = genai.GenerativeModel('gemini-pro')\n",
        "  response = model.generate_content(itenerary + \"Please provide a response in a structured JSON format that matches the following model: [{Day: day number, morning: [morning activities(do not include optional)], afternoon: [afternoon activities(do not include optional)], evening: [evening activities(do not include optional)]}]\")\n",
        "  return response.text\n",
        "\n",
        "print(convert_to_json(itenerary))\n",
        "\n",
        "\n",
        "def show_budget_transportation(city, fromcity, transportation_method, time_of_visit):\n",
        "  model = genai.GenerativeModel('gemini-pro')\n",
        "  response = model.generate_content(\"provide ONLY a number for ticket price for round-trip \" +transportation_method + \"from\" + fromcity + \" to \" + city + \"during\"+ time_of_visit)\n",
        "  return response.text\n",
        "\n",
        "def convert_to_json_transportation(city, fromcity, transportation_method, time_of_visit):\n",
        "  model = genai.GenerativeModel('gemini-pro')\n",
        "  response = model.generate_content(show_budget_transportation(city, fromcity, transportation_method, time_of_visit)+ \"Please provide a response in a structured JSON format that matches the following model: budget: budget\")\n",
        "  return response.text\n",
        "\n",
        "print(convert_to_json_transportation(city, fromcity, transportation_method, time_of_visit))\n",
        "\n",
        "def show_hotel(itenerary, hotel_price_range, time_of_visit):\n",
        "    model = genai.GenerativeModel('gemini-pro')\n",
        "    response = model.generate_content(\"generate A singular hotel that matches the price range\" + hotel_price_range+ \"during \" + time_of_visit +\"that is closest to the morning activities of the following itenerary \" + itenerary+ \"Please provide a response in a structured JSON format that matches the following model: hotel name: hotel name, hotel price: hotel price\")\n",
        "    return response.text\n",
        "\n",
        "hotel = show_hotel(itenerary, hotel_price_range, time_of_visit)\n",
        "print(hotel)\n",
        "\n",
        "def show_budget_transportation_in_city(city):\n",
        "  model = genai.GenerativeModel('gemini-pro')\n",
        "  response = model.generate_content(\"estimate A singular number of budget of ground transportation traveling in \" + city + \"Please provide a response in a structured JSON format that matches the following model: tranportation price: transportation price\")\n",
        "  return response.text\n",
        "\n",
        "print(show_budget_transportation_in_city(city))\n",
        "\n",
        "# def convert_to_json(city, fromcity, transportation_method, time_of_visit):\n",
        "#   model = genai.GenerativeModel('gemini-pro')\n",
        "#   response = model.generate_content(show_budget_transportation(city, fromcity, transportation_method, time_of_visit)+ \"Please provide a response in a structured JSON format that matches the following model: budget: budget\")\n",
        "#   return response.text\n",
        "# print(convert_to_json(city, fromcity, transportation_method, time_of_visit))"
      ],
      "metadata": {
        "colab": {
          "base_uri": "https://localhost:8080/",
          "height": 676
        },
        "id": "bYV-P1ShDImU",
        "outputId": "63819767-c39e-4932-e245-3090150d6e85"
      },
      "execution_count": null,
      "outputs": [
        {
          "output_type": "stream",
          "name": "stdout",
          "text": [
            "```JSON\n",
            "[\n",
            "  {\n",
            "    \"Day\": 1,\n",
            "    \"morning\": [\"Arrive in New York City and check into your hotel\"],\n",
            "    \"afternoon\": [\"Visit the Empire State Building\"],\n",
            "    \"evening\": [\"Dine at Katz's Delicatessen\"]\n",
            "  },\n",
            "  {\n",
            "    \"Day\": 2,\n",
            "    \"morning\": [\"Explore the vibrant neighborhood of SoHo\"],\n",
            "    \"afternoon\": [\"Visit the 9/11 Memorial & Museum\"],\n",
            "    \"evening\": [\"Enjoy a Broadway show\"]\n",
            "  },\n",
            "  {\n",
            "    \"Day\": 3,\n",
            "    \"morning\": [\"Take a ferry to the Statue of Liberty and Ellis Island\"],\n",
            "    \"afternoon\": [\"Visit the American Museum of Natural History\"],\n",
            "    \"evening\": [\"Depart from New York City\"]\n",
            "  }\n",
            "]\n",
            "```\n",
            "```json\n",
            "{\n",
            "  \"budget\": 198\n",
            "}\n",
            "```\n",
            "```json\n",
            "{\n",
            "  \"hotel name\": \"Holiday Inn Express New York City - Chelsea\",\n",
            "  \"hotel price\": \"$119/night\"\n",
            "}\n",
            "```\n",
            "```json\n",
            "{\n",
            "  \"transportation price\": \"25-50 USD/day\"\n",
            "}\n",
            "```\n"
          ]
        }
      ]
    },
    {
      "cell_type": "code",
      "source": [],
      "metadata": {
        "id": "k7Z1MwBtrkPJ"
      },
      "execution_count": null,
      "outputs": []
    },
    {
      "cell_type": "markdown",
      "source": [
        "generate a plan with budget, based on city, list of places to visit, budget, time"
      ],
      "metadata": {
        "id": "DUhwrSaHKL9e"
      }
    },
    {
      "cell_type": "code",
      "source": [],
      "metadata": {
        "id": "Vy0BiGBZH6Bg"
      },
      "execution_count": null,
      "outputs": []
    }
  ]
}